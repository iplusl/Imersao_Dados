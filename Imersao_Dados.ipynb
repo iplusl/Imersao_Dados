{
 "cells": [
  {
   "cell_type": "markdown",
   "id": "hollow-wilderness",
   "metadata": {},
   "source": [
    "### ----------------------------------------- Aula 1 --------------------------------------------"
   ]
  },
  {
   "cell_type": "markdown",
   "id": "capable-favorite",
   "metadata": {},
   "source": [
    "### Python e Pandas para atacar um problema da Farmácia"
   ]
  },
  {
   "cell_type": "code",
   "execution_count": null,
   "id": "removed-canberra",
   "metadata": {},
   "outputs": [],
   "source": [
    "import pandas as pd\n",
    "url_dados = \"https://github.com/alura-cursos/imersaodados3/blob/main/dados/dados_experimentos.zip?raw=true\"\n",
    "dados = pd.read_csv(url_dados, compression=\"zip\")\n",
    "dados"
   ]
  },
  {
   "cell_type": "code",
   "execution_count": null,
   "id": "iraqi-capital",
   "metadata": {},
   "outputs": [],
   "source": [
    "dados.head()"
   ]
  },
  {
   "cell_type": "code",
   "execution_count": null,
   "id": "nominated-district",
   "metadata": {},
   "outputs": [],
   "source": [
    "dados.shape"
   ]
  },
  {
   "cell_type": "code",
   "execution_count": null,
   "id": "optimum-essex",
   "metadata": {},
   "outputs": [],
   "source": [
    "dados['tratamento']"
   ]
  },
  {
   "cell_type": "code",
   "execution_count": null,
   "id": "binary-tiffany",
   "metadata": {},
   "outputs": [],
   "source": [
    "dados['tratamento'].unique()"
   ]
  },
  {
   "cell_type": "code",
   "execution_count": null,
   "id": "varied-currency",
   "metadata": {},
   "outputs": [],
   "source": [
    "dados['tempo'].unique()"
   ]
  },
  {
   "cell_type": "code",
   "execution_count": null,
   "id": "introductory-intellectual",
   "metadata": {},
   "outputs": [],
   "source": [
    "dados['dose'].unique()"
   ]
  },
  {
   "cell_type": "code",
   "execution_count": null,
   "id": "careful-respect",
   "metadata": {},
   "outputs": [],
   "source": [
    "dados['droga'].unique()"
   ]
  },
  {
   "cell_type": "code",
   "execution_count": null,
   "id": "radical-robin",
   "metadata": {},
   "outputs": [],
   "source": [
    "dados['g-0'].unique()"
   ]
  },
  {
   "cell_type": "code",
   "execution_count": null,
   "id": "atlantic-teach",
   "metadata": {},
   "outputs": [],
   "source": [
    "dados['tratamento'].value_counts()"
   ]
  },
  {
   "cell_type": "code",
   "execution_count": null,
   "id": "developed-validation",
   "metadata": {},
   "outputs": [],
   "source": [
    "dados['dose'].value_counts()"
   ]
  },
  {
   "cell_type": "code",
   "execution_count": null,
   "id": "active-independence",
   "metadata": {},
   "outputs": [],
   "source": [
    "dados['tratamento'].value_counts(normalize=True)"
   ]
  },
  {
   "cell_type": "code",
   "execution_count": null,
   "id": "formed-pillow",
   "metadata": {},
   "outputs": [],
   "source": [
    "dados['dose'].value_counts(normalize=True)"
   ]
  },
  {
   "cell_type": "code",
   "execution_count": null,
   "id": "available-germany",
   "metadata": {},
   "outputs": [],
   "source": [
    "dados['tratamento'].value_counts().plot.pie()"
   ]
  },
  {
   "cell_type": "code",
   "execution_count": null,
   "id": "minor-uncertainty",
   "metadata": {},
   "outputs": [],
   "source": [
    "dados['tempo'].value_counts().plot.pie()"
   ]
  },
  {
   "cell_type": "code",
   "execution_count": null,
   "id": "concerned-maintenance",
   "metadata": {},
   "outputs": [],
   "source": [
    "dados['tempo'].value_counts().plot.bar()"
   ]
  },
  {
   "cell_type": "code",
   "execution_count": null,
   "id": "subject-bench",
   "metadata": {},
   "outputs": [],
   "source": [
    "dados_filtrados = dados[dados['g-0'] > 0]\n",
    "dados_filtrados.head()"
   ]
  },
  {
   "cell_type": "code",
   "execution_count": null,
   "id": "apparent-monaco",
   "metadata": {},
   "outputs": [],
   "source": [
    "dados"
   ]
  },
  {
   "cell_type": "markdown",
   "id": "legendary-cleaning",
   "metadata": {},
   "source": [
    "### ------------------------------------ Desafios Aula 1 ----------------------------------------\n",
    "\n",
    "### Desafio 01: Investigar por que a clase tratamento é tão desbalanceada"
   ]
  },
  {
   "cell_type": "markdown",
   "id": "prerequisite-drawing",
   "metadata": {},
   "source": [
    "O grupo com_controle fornece um padrão, ou referência, que permite avaliar se o tratamento tem um efeito e por isso possui poucos dados."
   ]
  },
  {
   "cell_type": "markdown",
   "id": "communist-canadian",
   "metadata": {},
   "source": [
    "### Desafio 02: Plotar as 5 ultimas linhas da tabela."
   ]
  },
  {
   "cell_type": "code",
   "execution_count": null,
   "id": "olympic-breeding",
   "metadata": {},
   "outputs": [],
   "source": [
    "dados.tail()"
   ]
  },
  {
   "cell_type": "markdown",
   "id": "checked-commitment",
   "metadata": {},
   "source": [
    "### Desafio 03: Proporção das clases tratamento."
   ]
  },
  {
   "cell_type": "code",
   "execution_count": null,
   "id": "latter-treasure",
   "metadata": {},
   "outputs": [],
   "source": [
    "dados['tratamento'].value_counts(normalize=True)"
   ]
  },
  {
   "cell_type": "markdown",
   "id": "earned-burton",
   "metadata": {},
   "source": [
    "### Desafio 04: Quantos tipos de drogas foram investigados."
   ]
  },
  {
   "cell_type": "code",
   "execution_count": null,
   "id": "speaking-national",
   "metadata": {},
   "outputs": [],
   "source": [
    "len(dados['droga'].unique())"
   ]
  },
  {
   "cell_type": "markdown",
   "id": "important-attempt",
   "metadata": {},
   "source": [
    "### Desafio 05: Procurar na documentação o método query(pandas)."
   ]
  },
  {
   "cell_type": "code",
   "execution_count": null,
   "id": "oriental-street",
   "metadata": {},
   "outputs": [],
   "source": [
    "dados_filtrados2 = dados.query('`g-0` > 0')\n",
    "dados_filtrados2.head()"
   ]
  },
  {
   "cell_type": "markdown",
   "id": "anticipated-collective",
   "metadata": {},
   "source": [
    "### Desafio 06: Renomear as colunas removendo o hífen."
   ]
  },
  {
   "cell_type": "code",
   "execution_count": null,
   "id": "broad-estate",
   "metadata": {},
   "outputs": [],
   "source": [
    "colunas = []\n",
    "for i in dados.columns:\n",
    "    colunas.append(i.replace('-', ''))\n",
    "dados.columns = colunas\n",
    "dados"
   ]
  },
  {
   "cell_type": "markdown",
   "id": "outstanding-sally",
   "metadata": {},
   "source": [
    "### Desafio 07: Deixar os gráficos bonitões. (Matplotlib.pyplot)"
   ]
  },
  {
   "cell_type": "code",
   "execution_count": null,
   "id": "functioning-ribbon",
   "metadata": {},
   "outputs": [],
   "source": [
    "dados['tratamento'].value_counts().plot.pie()"
   ]
  },
  {
   "cell_type": "code",
   "execution_count": null,
   "id": "compliant-agency",
   "metadata": {},
   "outputs": [],
   "source": [
    "dados['tempo'].value_counts().plot.pie()"
   ]
  },
  {
   "cell_type": "code",
   "execution_count": null,
   "id": "mathematical-basketball",
   "metadata": {},
   "outputs": [],
   "source": [
    "dados['tempo'].value_counts().plot.bar()"
   ]
  },
  {
   "cell_type": "markdown",
   "id": "dependent-coupon",
   "metadata": {},
   "source": [
    "### Desafio 08: Resumo do que você aprendeu com os dados"
   ]
  },
  {
   "cell_type": "code",
   "execution_count": null,
   "id": "practical-democracy",
   "metadata": {},
   "outputs": [],
   "source": []
  },
  {
   "cell_type": "markdown",
   "id": "specified-woman",
   "metadata": {},
   "source": [
    "### ----------------------------------------- Aula 2 --------------------------------------------\n"
   ]
  },
  {
   "cell_type": "markdown",
   "id": "corresponding-ghana",
   "metadata": {},
   "source": [
    "### Estatísticas, visualização de dados e distribuições"
   ]
  },
  {
   "cell_type": "code",
   "execution_count": null,
   "id": "alike-checkout",
   "metadata": {},
   "outputs": [],
   "source": [
    "mapa = {'droga' : 'composto'}\n",
    "dados.rename(columns = mapa, inplace=True)"
   ]
  },
  {
   "cell_type": "code",
   "execution_count": null,
   "id": "thousand-store",
   "metadata": {},
   "outputs": [],
   "source": [
    "dados.head()"
   ]
  },
  {
   "cell_type": "code",
   "execution_count": null,
   "id": "improving-symbol",
   "metadata": {},
   "outputs": [],
   "source": [
    "cod_compostos = dados['composto'].value_counts().index[0:5]"
   ]
  },
  {
   "cell_type": "code",
   "execution_count": null,
   "id": "harmful-typing",
   "metadata": {},
   "outputs": [],
   "source": [
    "cod_compostos"
   ]
  },
  {
   "cell_type": "code",
   "execution_count": null,
   "id": "weekly-profile",
   "metadata": {},
   "outputs": [],
   "source": [
    "dados.query('composto in @cod_compostos')"
   ]
  },
  {
   "cell_type": "code",
   "execution_count": null,
   "id": "standing-needle",
   "metadata": {
    "scrolled": true
   },
   "outputs": [],
   "source": [
    "import seaborn as sns\n",
    "import matplotlib.pyplot as plt\n",
    "sns.set()\n",
    "plt.figure(figsize=(8,6))\n",
    "ax = sns.countplot(x = 'composto', data=dados.query('composto in @cod_compostos'))\n",
    "ax.set_title('Top 5 Compostos')\n",
    "plt.show()"
   ]
  },
  {
   "cell_type": "code",
   "execution_count": null,
   "id": "unable-coordinator",
   "metadata": {},
   "outputs": [],
   "source": [
    "len(dados['g0'].unique())"
   ]
  },
  {
   "cell_type": "code",
   "execution_count": null,
   "id": "abroad-warrant",
   "metadata": {},
   "outputs": [],
   "source": [
    "dados['g0'].min()"
   ]
  },
  {
   "cell_type": "code",
   "execution_count": null,
   "id": "sapphire-walter",
   "metadata": {},
   "outputs": [],
   "source": [
    "dados['g0'].max()"
   ]
  },
  {
   "cell_type": "code",
   "execution_count": null,
   "id": "coastal-allergy",
   "metadata": {},
   "outputs": [],
   "source": [
    "dados['g0'].hist(bins = 100)"
   ]
  },
  {
   "cell_type": "code",
   "execution_count": null,
   "id": "earned-honey",
   "metadata": {},
   "outputs": [],
   "source": [
    "dados['g19'].hist(bins = 100)"
   ]
  },
  {
   "cell_type": "code",
   "execution_count": null,
   "id": "knowing-delay",
   "metadata": {},
   "outputs": [],
   "source": [
    "dados.describe()"
   ]
  },
  {
   "cell_type": "code",
   "execution_count": null,
   "id": "charming-experience",
   "metadata": {},
   "outputs": [],
   "source": [
    "dados[['g0', 'g1']]"
   ]
  },
  {
   "cell_type": "code",
   "execution_count": null,
   "id": "presidential-identity",
   "metadata": {},
   "outputs": [],
   "source": [
    "dados.loc[:, 'g0':'g771'].describe()"
   ]
  },
  {
   "cell_type": "code",
   "execution_count": null,
   "id": "optical-excess",
   "metadata": {},
   "outputs": [],
   "source": [
    "dados.loc[:, 'g0':'g771'].describe().T['mean'].hist(bins=30)"
   ]
  },
  {
   "cell_type": "code",
   "execution_count": null,
   "id": "annoying-stuff",
   "metadata": {},
   "outputs": [],
   "source": [
    "dados.loc[:, 'g0':'g771'].describe().T['min'].hist(bins=30)"
   ]
  },
  {
   "cell_type": "code",
   "execution_count": null,
   "id": "wrapped-language",
   "metadata": {},
   "outputs": [],
   "source": [
    "dados.loc[:, 'g0':'g771'].describe().T['max'].hist(bins=30)"
   ]
  },
  {
   "cell_type": "code",
   "execution_count": null,
   "id": "supported-ratio",
   "metadata": {},
   "outputs": [],
   "source": [
    "dados.loc[:, 'c0':'c99'].describe().T['mean'].hist(bins=50)"
   ]
  },
  {
   "cell_type": "code",
   "execution_count": null,
   "id": "healthy-clerk",
   "metadata": {},
   "outputs": [],
   "source": [
    "sns.boxplot(x = 'g0', data = dados)"
   ]
  },
  {
   "cell_type": "code",
   "execution_count": null,
   "id": "north-second",
   "metadata": {},
   "outputs": [],
   "source": [
    "plt.figure(figsize=(10,8))\n",
    "sns.boxplot(y = 'g0', x = 'tratamento', data = dados)"
   ]
  },
  {
   "cell_type": "markdown",
   "id": "extra-baseline",
   "metadata": {},
   "source": [
    "### ------------------------------------ Desafios Aula 2 ----------------------------------------\n",
    "\n",
    "### Desafio 01: Ordenar o gráfico countplot"
   ]
  },
  {
   "cell_type": "markdown",
   "id": "latin-elder",
   "metadata": {},
   "source": [
    "### Desafio 02: Melhorar a visualização alterando o tamanho da fonte..."
   ]
  },
  {
   "cell_type": "markdown",
   "id": "associate-manufacturer",
   "metadata": {},
   "source": [
    "### Desafio 03: Plotar os histogramas com seaborn"
   ]
  },
  {
   "cell_type": "markdown",
   "id": "explicit-financing",
   "metadata": {},
   "source": [
    "### Desafio 04: Estudar sobre as estatísticas retornadas no .describe()"
   ]
  },
  {
   "cell_type": "markdown",
   "id": "optimum-burner",
   "metadata": {},
   "source": [
    "### Desafio 05: Refletir sobre a manipulação do tamanho das visualizações"
   ]
  },
  {
   "cell_type": "markdown",
   "id": "extensive-laundry",
   "metadata": {},
   "source": [
    "### Desafio 06: Fazer outras com o boxplot e até com o histograma"
   ]
  },
  {
   "cell_type": "markdown",
   "id": "infinite-compiler",
   "metadata": {},
   "source": [
    "### Desafio 07: Resumo do que você aprendeu com os dados"
   ]
  },
  {
   "cell_type": "code",
   "execution_count": null,
   "id": "normal-trigger",
   "metadata": {},
   "outputs": [],
   "source": []
  },
  {
   "cell_type": "markdown",
   "id": "biblical-collins",
   "metadata": {},
   "source": [
    "### ----------------------------------------- Aula 3 --------------------------------------------"
   ]
  },
  {
   "cell_type": "markdown",
   "id": "authorized-stewart",
   "metadata": {},
   "source": [
    "### Correlações, causalidade e relações entre genes."
   ]
  }
 ],
 "metadata": {
  "kernelspec": {
   "display_name": "Python 3",
   "language": "python",
   "name": "python3"
  },
  "language_info": {
   "codemirror_mode": {
    "name": "ipython",
    "version": 3
   },
   "file_extension": ".py",
   "mimetype": "text/x-python",
   "name": "python",
   "nbconvert_exporter": "python",
   "pygments_lexer": "ipython3",
   "version": "3.8.8"
  }
 },
 "nbformat": 4,
 "nbformat_minor": 5
}
